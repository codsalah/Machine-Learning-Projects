{
  "metadata": {
    "kernelspec": {
      "display_name": "Python 3",
      "name": "python3"
    },
    "language_info": {
      "name": "python",
      "version": "3.10.12",
      "mimetype": "text/x-python",
      "codemirror_mode": {
        "name": "ipython",
        "version": 3
      },
      "pygments_lexer": "ipython3",
      "nbconvert_exporter": "python",
      "file_extension": ".py"
    },
    "colab": {
      "name": "volume | XGboost , CatBoost, GradBoost 91% 🚀  ",
      "provenance": [],
      "gpuType": "T4",
      "include_colab_link": true
    },
    "accelerator": "GPU"
  },
  "nbformat_minor": 0,
  "nbformat": 4,
  "cells": [
    {
      "cell_type": "markdown",
      "metadata": {
        "id": "view-in-github",
        "colab_type": "text"
      },
      "source": [
        "<a href=\"https://colab.research.google.com/github/codsalah/Machine-Learning-Projects/blob/main/grain_volume_XGboost_GradBoost.ipynb\" target=\"_parent\"><img src=\"https://colab.research.google.com/assets/colab-badge.svg\" alt=\"Open In Colab\"/></a>"
      ]
    },
    {
      "source": [
        "\n",
        "\n",
        "import os\n",
        "import sys\n",
        "from tempfile import NamedTemporaryFile\n",
        "from urllib.request import urlopen\n",
        "from urllib.parse import unquote, urlparse\n",
        "from urllib.error import HTTPError\n",
        "from zipfile import ZipFile\n",
        "import tarfile\n",
        "import shutil\n",
        "\n",
        "CHUNK_SIZE = 40960\n",
        "DATA_SOURCE_MAPPING = 'grains-and-cereals-futures:https%3A%2F%2Fstorage.googleapis.com%2Fkaggle-data-sets%2F3639012%2F6461889%2Fbundle%2Farchive.zip%3FX-Goog-Algorithm%3DGOOG4-RSA-SHA256%26X-Goog-Credential%3Dgcp-kaggle-com%2540kaggle-161607.iam.gserviceaccount.com%252F20240410%252Fauto%252Fstorage%252Fgoog4_request%26X-Goog-Date%3D20240410T234043Z%26X-Goog-Expires%3D259200%26X-Goog-SignedHeaders%3Dhost%26X-Goog-Signature%3Db69098954e761f85bf34a8ec9651f7805b7d110da98b70e52972a64f568516c38e5226013bb5645e7803380ed15b9e17730d9ee2e04d71f5a9e1c599159919d2d3ae134c42bfbf963a2da8f5cc7532a7fcb7e7c1fb988c0a55984d37a98eb9231bd8c20693f7695bcf3540bb3e7de55124547e668eae35851e23825e71c50155620ab5d9d1bdcc5a41e5ee48eb2b3ea1be24c9a18f18dd9197d24a34879e68471dc68f1e4337ee51bbeaa627a7a8328ccab8663eb07dfa8a97e32ec33ba1763a106ada6d7001ed0b41e93de8a7e5be18796c66fefe13dfd4a3777d5ef3c398c2ebc54c1c5fb323d6f4f2897b2ce9dc77829ae8ad86e9e626fc8e5e605a2d5c4f'\n",
        "\n",
        "KAGGLE_INPUT_PATH='/kaggle/input'\n",
        "KAGGLE_WORKING_PATH='/kaggle/working'\n",
        "KAGGLE_SYMLINK='kaggle'\n",
        "\n",
        "!umount /kaggle/input/ 2> /dev/null\n",
        "shutil.rmtree('/kaggle/input', ignore_errors=True)\n",
        "os.makedirs(KAGGLE_INPUT_PATH, 0o777, exist_ok=True)\n",
        "os.makedirs(KAGGLE_WORKING_PATH, 0o777, exist_ok=True)\n",
        "\n",
        "try:\n",
        "  os.symlink(KAGGLE_INPUT_PATH, os.path.join(\"..\", 'input'), target_is_directory=True)\n",
        "except FileExistsError:\n",
        "  pass\n",
        "try:\n",
        "  os.symlink(KAGGLE_WORKING_PATH, os.path.join(\"..\", 'working'), target_is_directory=True)\n",
        "except FileExistsError:\n",
        "  pass\n",
        "\n",
        "for data_source_mapping in DATA_SOURCE_MAPPING.split(','):\n",
        "    directory, download_url_encoded = data_source_mapping.split(':')\n",
        "    download_url = unquote(download_url_encoded)\n",
        "    filename = urlparse(download_url).path\n",
        "    destination_path = os.path.join(KAGGLE_INPUT_PATH, directory)\n",
        "    try:\n",
        "        with urlopen(download_url) as fileres, NamedTemporaryFile() as tfile:\n",
        "            total_length = fileres.headers['content-length']\n",
        "            print(f'Downloading {directory}, {total_length} bytes compressed')\n",
        "            dl = 0\n",
        "            data = fileres.read(CHUNK_SIZE)\n",
        "            while len(data) > 0:\n",
        "                dl += len(data)\n",
        "                tfile.write(data)\n",
        "                done = int(50 * dl / int(total_length))\n",
        "                sys.stdout.write(f\"\\r[{'=' * done}{' ' * (50-done)}] {dl} bytes downloaded\")\n",
        "                sys.stdout.flush()\n",
        "                data = fileres.read(CHUNK_SIZE)\n",
        "            if filename.endswith('.zip'):\n",
        "              with ZipFile(tfile) as zfile:\n",
        "                zfile.extractall(destination_path)\n",
        "            else:\n",
        "              with tarfile.open(tfile.name) as tarfile:\n",
        "                tarfile.extractall(destination_path)\n",
        "            print(f'\\nDownloaded and uncompressed: {directory}')\n",
        "    except HTTPError as e:\n",
        "        print(f'Failed to load (likely expired) {download_url} to path {destination_path}')\n",
        "        continue\n",
        "    except OSError as e:\n",
        "        print(f'Failed to load {download_url} to path {destination_path}')\n",
        "        continue\n",
        "\n",
        "print('Data source import complete.')\n"
      ],
      "metadata": {
        "colab": {
          "base_uri": "https://localhost:8080/"
        },
        "id": "FR2PKPZjYqMk",
        "outputId": "c91300de-8823-4f15-9daa-b8120974dfc1"
      },
      "cell_type": "code",
      "outputs": [
        {
          "output_type": "stream",
          "name": "stdout",
          "text": [
            "Downloading grains-and-cereals-futures, 908671 bytes compressed\n",
            "[==================================================] 908671 bytes downloaded\n",
            "Downloaded and uncompressed: grains-and-cereals-futures\n",
            "Data source import complete.\n"
          ]
        }
      ],
      "execution_count": 27
    },
    {
      "cell_type": "markdown",
      "source": [
        "<center><h1>Introduction"
      ],
      "metadata": {
        "id": "w95uDj4BYqMm"
      }
    },
    {
      "cell_type": "markdown",
      "source": [
        "1. Date: The date when the data was recorded. Format: YYYY-MM-DD.\n",
        "2. Open: Market's opening price for the day.\n",
        "3. High: Maximum price reached during the trading session.\n",
        "4. Low: Minimum traded price during the day.\n",
        "5. Close: Market's closing price.\n",
        "6. Volume: Number of contracts traded during the session.\n",
        "7. Ticker: Unique market quotation symbol for the grain future.\n",
        "8. Commodity: Specifies the type of grain the future contract represents (e.g., corn, oat)."
      ],
      "metadata": {
        "id": "YxHpbWQ7YqMn"
      }
    },
    {
      "cell_type": "markdown",
      "source": [
        "<center><h1>Importing Libraries"
      ],
      "metadata": {
        "id": "Ha2_2ImkYqMn"
      }
    },
    {
      "cell_type": "code",
      "source": [
        "import pandas as pd\n",
        "import numpy as np\n",
        "\n",
        "import matplotlib.pyplot as plt\n",
        "import seaborn as sns\n",
        "from sklearn.linear_model import LinearRegression\n",
        "from sklearn.pipeline import make_pipeline\n",
        "from sklearn.ensemble import RandomForestRegressor\n",
        "from sklearn.tree import DecisionTreeRegressor\n",
        "from sklearn.ensemble import GradientBoostingRegressor\n",
        "import xgboost as xgb\n",
        "from sklearn.preprocessing import (StandardScaler,\n",
        "                                   OneHotEncoder,\n",
        "                                   )\n",
        "\n",
        "from sklearn.model_selection import train_test_split\n",
        "\n",
        "\n",
        "import warnings\n",
        "warnings.simplefilter(action='ignore', category=FutureWarning)\n",
        "\n",
        "pd.set_option(\"display.max_columns\", None)\n",
        "pd.set_option(\"display.max_colwidth\", None)\n",
        "\n",
        "sns.set(style=\"whitegrid\")\n",
        "\n",
        "from sklearn.metrics import (mean_absolute_error,\n",
        "                            r2_score)\n"
      ],
      "metadata": {
        "_uuid": "8f2839f25d086af736a60e9eeb907d3b93b6e0e5",
        "_cell_guid": "b1076dfc-b9ad-4769-8c92-a6c4dae69d19",
        "execution": {
          "iopub.status.busy": "2023-09-13T14:13:44.500458Z",
          "iopub.execute_input": "2023-09-13T14:13:44.500855Z",
          "iopub.status.idle": "2023-09-13T14:13:47.405001Z",
          "shell.execute_reply.started": "2023-09-13T14:13:44.500823Z",
          "shell.execute_reply": "2023-09-13T14:13:47.403428Z"
        },
        "trusted": true,
        "id": "c_lFec1TYqMo"
      },
      "execution_count": 3,
      "outputs": []
    },
    {
      "cell_type": "markdown",
      "source": [
        "<center><h1>Explore Data"
      ],
      "metadata": {
        "id": "ndbbWYqHYqMo"
      }
    },
    {
      "cell_type": "code",
      "source": [
        "df = pd.read_csv(\"/kaggle/input/grains-and-cereals-futures/all_grains_data.csv\")\n",
        "df.head()"
      ],
      "metadata": {
        "execution": {
          "iopub.status.busy": "2023-09-13T14:13:47.407355Z",
          "iopub.execute_input": "2023-09-13T14:13:47.408565Z",
          "iopub.status.idle": "2023-09-13T14:13:47.503993Z",
          "shell.execute_reply.started": "2023-09-13T14:13:47.40848Z",
          "shell.execute_reply": "2023-09-13T14:13:47.502994Z"
        },
        "trusted": true,
        "colab": {
          "base_uri": "https://localhost:8080/",
          "height": 206
        },
        "id": "MLJN5jqYYqMo",
        "outputId": "4395e779-6544-4acf-c17d-40a04ecc956b"
      },
      "execution_count": 4,
      "outputs": [
        {
          "output_type": "execute_result",
          "data": {
            "text/plain": [
              "  ticker commodity        date    open    high     low   close  volume\n",
              "0   ZC=F      Corn  2000-07-17  182.25  182.25  178.25  179.25   19385\n",
              "1   ZC=F      Corn  2000-07-18  179.00  183.25  179.00  180.75   25205\n",
              "2   ZC=F      Corn  2000-07-19  180.00  182.75  178.75  182.00   17126\n",
              "3   ZC=F      Corn  2000-07-20  181.50  187.00  181.00  186.00   18742\n",
              "4   ZC=F      Corn  2000-07-21  185.50  188.00  185.00  187.75   16814"
            ],
            "text/html": [
              "\n",
              "  <div id=\"df-cf0314f1-6e52-4f7a-aef4-55abd23cee13\" class=\"colab-df-container\">\n",
              "    <div>\n",
              "<style scoped>\n",
              "    .dataframe tbody tr th:only-of-type {\n",
              "        vertical-align: middle;\n",
              "    }\n",
              "\n",
              "    .dataframe tbody tr th {\n",
              "        vertical-align: top;\n",
              "    }\n",
              "\n",
              "    .dataframe thead th {\n",
              "        text-align: right;\n",
              "    }\n",
              "</style>\n",
              "<table border=\"1\" class=\"dataframe\">\n",
              "  <thead>\n",
              "    <tr style=\"text-align: right;\">\n",
              "      <th></th>\n",
              "      <th>ticker</th>\n",
              "      <th>commodity</th>\n",
              "      <th>date</th>\n",
              "      <th>open</th>\n",
              "      <th>high</th>\n",
              "      <th>low</th>\n",
              "      <th>close</th>\n",
              "      <th>volume</th>\n",
              "    </tr>\n",
              "  </thead>\n",
              "  <tbody>\n",
              "    <tr>\n",
              "      <th>0</th>\n",
              "      <td>ZC=F</td>\n",
              "      <td>Corn</td>\n",
              "      <td>2000-07-17</td>\n",
              "      <td>182.25</td>\n",
              "      <td>182.25</td>\n",
              "      <td>178.25</td>\n",
              "      <td>179.25</td>\n",
              "      <td>19385</td>\n",
              "    </tr>\n",
              "    <tr>\n",
              "      <th>1</th>\n",
              "      <td>ZC=F</td>\n",
              "      <td>Corn</td>\n",
              "      <td>2000-07-18</td>\n",
              "      <td>179.00</td>\n",
              "      <td>183.25</td>\n",
              "      <td>179.00</td>\n",
              "      <td>180.75</td>\n",
              "      <td>25205</td>\n",
              "    </tr>\n",
              "    <tr>\n",
              "      <th>2</th>\n",
              "      <td>ZC=F</td>\n",
              "      <td>Corn</td>\n",
              "      <td>2000-07-19</td>\n",
              "      <td>180.00</td>\n",
              "      <td>182.75</td>\n",
              "      <td>178.75</td>\n",
              "      <td>182.00</td>\n",
              "      <td>17126</td>\n",
              "    </tr>\n",
              "    <tr>\n",
              "      <th>3</th>\n",
              "      <td>ZC=F</td>\n",
              "      <td>Corn</td>\n",
              "      <td>2000-07-20</td>\n",
              "      <td>181.50</td>\n",
              "      <td>187.00</td>\n",
              "      <td>181.00</td>\n",
              "      <td>186.00</td>\n",
              "      <td>18742</td>\n",
              "    </tr>\n",
              "    <tr>\n",
              "      <th>4</th>\n",
              "      <td>ZC=F</td>\n",
              "      <td>Corn</td>\n",
              "      <td>2000-07-21</td>\n",
              "      <td>185.50</td>\n",
              "      <td>188.00</td>\n",
              "      <td>185.00</td>\n",
              "      <td>187.75</td>\n",
              "      <td>16814</td>\n",
              "    </tr>\n",
              "  </tbody>\n",
              "</table>\n",
              "</div>\n",
              "    <div class=\"colab-df-buttons\">\n",
              "\n",
              "  <div class=\"colab-df-container\">\n",
              "    <button class=\"colab-df-convert\" onclick=\"convertToInteractive('df-cf0314f1-6e52-4f7a-aef4-55abd23cee13')\"\n",
              "            title=\"Convert this dataframe to an interactive table.\"\n",
              "            style=\"display:none;\">\n",
              "\n",
              "  <svg xmlns=\"http://www.w3.org/2000/svg\" height=\"24px\" viewBox=\"0 -960 960 960\">\n",
              "    <path d=\"M120-120v-720h720v720H120Zm60-500h600v-160H180v160Zm220 220h160v-160H400v160Zm0 220h160v-160H400v160ZM180-400h160v-160H180v160Zm440 0h160v-160H620v160ZM180-180h160v-160H180v160Zm440 0h160v-160H620v160Z\"/>\n",
              "  </svg>\n",
              "    </button>\n",
              "\n",
              "  <style>\n",
              "    .colab-df-container {\n",
              "      display:flex;\n",
              "      gap: 12px;\n",
              "    }\n",
              "\n",
              "    .colab-df-convert {\n",
              "      background-color: #E8F0FE;\n",
              "      border: none;\n",
              "      border-radius: 50%;\n",
              "      cursor: pointer;\n",
              "      display: none;\n",
              "      fill: #1967D2;\n",
              "      height: 32px;\n",
              "      padding: 0 0 0 0;\n",
              "      width: 32px;\n",
              "    }\n",
              "\n",
              "    .colab-df-convert:hover {\n",
              "      background-color: #E2EBFA;\n",
              "      box-shadow: 0px 1px 2px rgba(60, 64, 67, 0.3), 0px 1px 3px 1px rgba(60, 64, 67, 0.15);\n",
              "      fill: #174EA6;\n",
              "    }\n",
              "\n",
              "    .colab-df-buttons div {\n",
              "      margin-bottom: 4px;\n",
              "    }\n",
              "\n",
              "    [theme=dark] .colab-df-convert {\n",
              "      background-color: #3B4455;\n",
              "      fill: #D2E3FC;\n",
              "    }\n",
              "\n",
              "    [theme=dark] .colab-df-convert:hover {\n",
              "      background-color: #434B5C;\n",
              "      box-shadow: 0px 1px 3px 1px rgba(0, 0, 0, 0.15);\n",
              "      filter: drop-shadow(0px 1px 2px rgba(0, 0, 0, 0.3));\n",
              "      fill: #FFFFFF;\n",
              "    }\n",
              "  </style>\n",
              "\n",
              "    <script>\n",
              "      const buttonEl =\n",
              "        document.querySelector('#df-cf0314f1-6e52-4f7a-aef4-55abd23cee13 button.colab-df-convert');\n",
              "      buttonEl.style.display =\n",
              "        google.colab.kernel.accessAllowed ? 'block' : 'none';\n",
              "\n",
              "      async function convertToInteractive(key) {\n",
              "        const element = document.querySelector('#df-cf0314f1-6e52-4f7a-aef4-55abd23cee13');\n",
              "        const dataTable =\n",
              "          await google.colab.kernel.invokeFunction('convertToInteractive',\n",
              "                                                    [key], {});\n",
              "        if (!dataTable) return;\n",
              "\n",
              "        const docLinkHtml = 'Like what you see? Visit the ' +\n",
              "          '<a target=\"_blank\" href=https://colab.research.google.com/notebooks/data_table.ipynb>data table notebook</a>'\n",
              "          + ' to learn more about interactive tables.';\n",
              "        element.innerHTML = '';\n",
              "        dataTable['output_type'] = 'display_data';\n",
              "        await google.colab.output.renderOutput(dataTable, element);\n",
              "        const docLink = document.createElement('div');\n",
              "        docLink.innerHTML = docLinkHtml;\n",
              "        element.appendChild(docLink);\n",
              "      }\n",
              "    </script>\n",
              "  </div>\n",
              "\n",
              "\n",
              "<div id=\"df-cf72e65e-ad63-4a5a-ae02-67426bc642c9\">\n",
              "  <button class=\"colab-df-quickchart\" onclick=\"quickchart('df-cf72e65e-ad63-4a5a-ae02-67426bc642c9')\"\n",
              "            title=\"Suggest charts\"\n",
              "            style=\"display:none;\">\n",
              "\n",
              "<svg xmlns=\"http://www.w3.org/2000/svg\" height=\"24px\"viewBox=\"0 0 24 24\"\n",
              "     width=\"24px\">\n",
              "    <g>\n",
              "        <path d=\"M19 3H5c-1.1 0-2 .9-2 2v14c0 1.1.9 2 2 2h14c1.1 0 2-.9 2-2V5c0-1.1-.9-2-2-2zM9 17H7v-7h2v7zm4 0h-2V7h2v10zm4 0h-2v-4h2v4z\"/>\n",
              "    </g>\n",
              "</svg>\n",
              "  </button>\n",
              "\n",
              "<style>\n",
              "  .colab-df-quickchart {\n",
              "      --bg-color: #E8F0FE;\n",
              "      --fill-color: #1967D2;\n",
              "      --hover-bg-color: #E2EBFA;\n",
              "      --hover-fill-color: #174EA6;\n",
              "      --disabled-fill-color: #AAA;\n",
              "      --disabled-bg-color: #DDD;\n",
              "  }\n",
              "\n",
              "  [theme=dark] .colab-df-quickchart {\n",
              "      --bg-color: #3B4455;\n",
              "      --fill-color: #D2E3FC;\n",
              "      --hover-bg-color: #434B5C;\n",
              "      --hover-fill-color: #FFFFFF;\n",
              "      --disabled-bg-color: #3B4455;\n",
              "      --disabled-fill-color: #666;\n",
              "  }\n",
              "\n",
              "  .colab-df-quickchart {\n",
              "    background-color: var(--bg-color);\n",
              "    border: none;\n",
              "    border-radius: 50%;\n",
              "    cursor: pointer;\n",
              "    display: none;\n",
              "    fill: var(--fill-color);\n",
              "    height: 32px;\n",
              "    padding: 0;\n",
              "    width: 32px;\n",
              "  }\n",
              "\n",
              "  .colab-df-quickchart:hover {\n",
              "    background-color: var(--hover-bg-color);\n",
              "    box-shadow: 0 1px 2px rgba(60, 64, 67, 0.3), 0 1px 3px 1px rgba(60, 64, 67, 0.15);\n",
              "    fill: var(--button-hover-fill-color);\n",
              "  }\n",
              "\n",
              "  .colab-df-quickchart-complete:disabled,\n",
              "  .colab-df-quickchart-complete:disabled:hover {\n",
              "    background-color: var(--disabled-bg-color);\n",
              "    fill: var(--disabled-fill-color);\n",
              "    box-shadow: none;\n",
              "  }\n",
              "\n",
              "  .colab-df-spinner {\n",
              "    border: 2px solid var(--fill-color);\n",
              "    border-color: transparent;\n",
              "    border-bottom-color: var(--fill-color);\n",
              "    animation:\n",
              "      spin 1s steps(1) infinite;\n",
              "  }\n",
              "\n",
              "  @keyframes spin {\n",
              "    0% {\n",
              "      border-color: transparent;\n",
              "      border-bottom-color: var(--fill-color);\n",
              "      border-left-color: var(--fill-color);\n",
              "    }\n",
              "    20% {\n",
              "      border-color: transparent;\n",
              "      border-left-color: var(--fill-color);\n",
              "      border-top-color: var(--fill-color);\n",
              "    }\n",
              "    30% {\n",
              "      border-color: transparent;\n",
              "      border-left-color: var(--fill-color);\n",
              "      border-top-color: var(--fill-color);\n",
              "      border-right-color: var(--fill-color);\n",
              "    }\n",
              "    40% {\n",
              "      border-color: transparent;\n",
              "      border-right-color: var(--fill-color);\n",
              "      border-top-color: var(--fill-color);\n",
              "    }\n",
              "    60% {\n",
              "      border-color: transparent;\n",
              "      border-right-color: var(--fill-color);\n",
              "    }\n",
              "    80% {\n",
              "      border-color: transparent;\n",
              "      border-right-color: var(--fill-color);\n",
              "      border-bottom-color: var(--fill-color);\n",
              "    }\n",
              "    90% {\n",
              "      border-color: transparent;\n",
              "      border-bottom-color: var(--fill-color);\n",
              "    }\n",
              "  }\n",
              "</style>\n",
              "\n",
              "  <script>\n",
              "    async function quickchart(key) {\n",
              "      const quickchartButtonEl =\n",
              "        document.querySelector('#' + key + ' button');\n",
              "      quickchartButtonEl.disabled = true;  // To prevent multiple clicks.\n",
              "      quickchartButtonEl.classList.add('colab-df-spinner');\n",
              "      try {\n",
              "        const charts = await google.colab.kernel.invokeFunction(\n",
              "            'suggestCharts', [key], {});\n",
              "      } catch (error) {\n",
              "        console.error('Error during call to suggestCharts:', error);\n",
              "      }\n",
              "      quickchartButtonEl.classList.remove('colab-df-spinner');\n",
              "      quickchartButtonEl.classList.add('colab-df-quickchart-complete');\n",
              "    }\n",
              "    (() => {\n",
              "      let quickchartButtonEl =\n",
              "        document.querySelector('#df-cf72e65e-ad63-4a5a-ae02-67426bc642c9 button');\n",
              "      quickchartButtonEl.style.display =\n",
              "        google.colab.kernel.accessAllowed ? 'block' : 'none';\n",
              "    })();\n",
              "  </script>\n",
              "</div>\n",
              "\n",
              "    </div>\n",
              "  </div>\n"
            ],
            "application/vnd.google.colaboratory.intrinsic+json": {
              "type": "dataframe",
              "variable_name": "df",
              "summary": "{\n  \"name\": \"df\",\n  \"rows\": 34865,\n  \"fields\": [\n    {\n      \"column\": \"ticker\",\n      \"properties\": {\n        \"dtype\": \"category\",\n        \"num_unique_values\": 6,\n        \"samples\": [\n          \"ZC=F\",\n          \"ZO=F\",\n          \"ZS=F\"\n        ],\n        \"semantic_type\": \"\",\n        \"description\": \"\"\n      }\n    },\n    {\n      \"column\": \"commodity\",\n      \"properties\": {\n        \"dtype\": \"category\",\n        \"num_unique_values\": 6,\n        \"samples\": [\n          \"Corn\",\n          \"Oat\",\n          \"Soybean\"\n        ],\n        \"semantic_type\": \"\",\n        \"description\": \"\"\n      }\n    },\n    {\n      \"column\": \"date\",\n      \"properties\": {\n        \"dtype\": \"object\",\n        \"num_unique_values\": 5969,\n        \"samples\": [\n          \"2015-07-29\",\n          \"2003-11-25\",\n          \"2007-01-12\"\n        ],\n        \"semantic_type\": \"\",\n        \"description\": \"\"\n      }\n    },\n    {\n      \"column\": \"open\",\n      \"properties\": {\n        \"dtype\": \"number\",\n        \"std\": 458.8317162901308,\n        \"min\": 14.399999618530272,\n        \"max\": 2435.0,\n        \"num_unique_values\": 9023,\n        \"samples\": [\n          987.5,\n          1130.75,\n          1831.0\n        ],\n        \"semantic_type\": \"\",\n        \"description\": \"\"\n      }\n    },\n    {\n      \"column\": \"high\",\n      \"properties\": {\n        \"dtype\": \"number\",\n        \"std\": 463.4122564476584,\n        \"min\": 14.40999984741211,\n        \"max\": 2468.5,\n        \"num_unique_values\": 9074,\n        \"samples\": [\n          377.75,\n          22.809999465942383,\n          929.0\n        ],\n        \"semantic_type\": \"\",\n        \"description\": \"\"\n      }\n    },\n    {\n      \"column\": \"low\",\n      \"properties\": {\n        \"dtype\": \"number\",\n        \"std\": 454.4881848649832,\n        \"min\": 14.380000114440918,\n        \"max\": 2400.0,\n        \"num_unique_values\": 8892,\n        \"samples\": [\n          33.38999938964844,\n          1052.5,\n          22.309999465942383\n        ],\n        \"semantic_type\": \"\",\n        \"description\": \"\"\n      }\n    },\n    {\n      \"column\": \"close\",\n      \"properties\": {\n        \"dtype\": \"number\",\n        \"std\": 458.8592027469589,\n        \"min\": 14.380000114440918,\n        \"max\": 2446.0,\n        \"num_unique_values\": 9135,\n        \"samples\": [\n          591.75,\n          203.0,\n          1479.5\n        ],\n        \"semantic_type\": \"\",\n        \"description\": \"\"\n      }\n    },\n    {\n      \"column\": \"volume\",\n      \"properties\": {\n        \"dtype\": \"number\",\n        \"std\": 52347,\n        \"min\": 0,\n        \"max\": 523849,\n        \"num_unique_values\": 15641,\n        \"samples\": [\n          654,\n          4224,\n          10190\n        ],\n        \"semantic_type\": \"\",\n        \"description\": \"\"\n      }\n    }\n  ]\n}"
            }
          },
          "metadata": {},
          "execution_count": 4
        }
      ]
    },
    {
      "cell_type": "code",
      "source": [
        "df.tail()"
      ],
      "metadata": {
        "execution": {
          "iopub.status.busy": "2023-09-13T14:13:47.505344Z",
          "iopub.execute_input": "2023-09-13T14:13:47.506612Z",
          "iopub.status.idle": "2023-09-13T14:13:47.530099Z",
          "shell.execute_reply.started": "2023-09-13T14:13:47.506553Z",
          "shell.execute_reply": "2023-09-13T14:13:47.527824Z"
        },
        "trusted": true,
        "colab": {
          "base_uri": "https://localhost:8080/",
          "height": 206
        },
        "id": "2GNOXHnhYqMo",
        "outputId": "8fd24966-260d-4064-f4b0-a25503933fe0"
      },
      "execution_count": 5,
      "outputs": [
        {
          "output_type": "execute_result",
          "data": {
            "text/plain": [
              "      ticker commodity        date     open    high     low    close  volume\n",
              "34860   ZS=F   Soybean  2023-09-06  1365.50  1365.5  1359.5  1360.25     102\n",
              "34861   ZS=F   Soybean  2023-09-07  1349.50  1350.0  1345.0  1345.00     310\n",
              "34862   ZS=F   Soybean  2023-09-08  1339.00  1349.5  1339.0  1349.50     198\n",
              "34863   ZS=F   Soybean  2023-09-11  1352.50  1352.5  1352.0  1352.50      36\n",
              "34864   ZS=F   Soybean  2023-09-12  1344.75  1350.0  1342.5  1343.75    8642"
            ],
            "text/html": [
              "\n",
              "  <div id=\"df-7c5693e6-182c-4bac-9502-a5613004669d\" class=\"colab-df-container\">\n",
              "    <div>\n",
              "<style scoped>\n",
              "    .dataframe tbody tr th:only-of-type {\n",
              "        vertical-align: middle;\n",
              "    }\n",
              "\n",
              "    .dataframe tbody tr th {\n",
              "        vertical-align: top;\n",
              "    }\n",
              "\n",
              "    .dataframe thead th {\n",
              "        text-align: right;\n",
              "    }\n",
              "</style>\n",
              "<table border=\"1\" class=\"dataframe\">\n",
              "  <thead>\n",
              "    <tr style=\"text-align: right;\">\n",
              "      <th></th>\n",
              "      <th>ticker</th>\n",
              "      <th>commodity</th>\n",
              "      <th>date</th>\n",
              "      <th>open</th>\n",
              "      <th>high</th>\n",
              "      <th>low</th>\n",
              "      <th>close</th>\n",
              "      <th>volume</th>\n",
              "    </tr>\n",
              "  </thead>\n",
              "  <tbody>\n",
              "    <tr>\n",
              "      <th>34860</th>\n",
              "      <td>ZS=F</td>\n",
              "      <td>Soybean</td>\n",
              "      <td>2023-09-06</td>\n",
              "      <td>1365.50</td>\n",
              "      <td>1365.5</td>\n",
              "      <td>1359.5</td>\n",
              "      <td>1360.25</td>\n",
              "      <td>102</td>\n",
              "    </tr>\n",
              "    <tr>\n",
              "      <th>34861</th>\n",
              "      <td>ZS=F</td>\n",
              "      <td>Soybean</td>\n",
              "      <td>2023-09-07</td>\n",
              "      <td>1349.50</td>\n",
              "      <td>1350.0</td>\n",
              "      <td>1345.0</td>\n",
              "      <td>1345.00</td>\n",
              "      <td>310</td>\n",
              "    </tr>\n",
              "    <tr>\n",
              "      <th>34862</th>\n",
              "      <td>ZS=F</td>\n",
              "      <td>Soybean</td>\n",
              "      <td>2023-09-08</td>\n",
              "      <td>1339.00</td>\n",
              "      <td>1349.5</td>\n",
              "      <td>1339.0</td>\n",
              "      <td>1349.50</td>\n",
              "      <td>198</td>\n",
              "    </tr>\n",
              "    <tr>\n",
              "      <th>34863</th>\n",
              "      <td>ZS=F</td>\n",
              "      <td>Soybean</td>\n",
              "      <td>2023-09-11</td>\n",
              "      <td>1352.50</td>\n",
              "      <td>1352.5</td>\n",
              "      <td>1352.0</td>\n",
              "      <td>1352.50</td>\n",
              "      <td>36</td>\n",
              "    </tr>\n",
              "    <tr>\n",
              "      <th>34864</th>\n",
              "      <td>ZS=F</td>\n",
              "      <td>Soybean</td>\n",
              "      <td>2023-09-12</td>\n",
              "      <td>1344.75</td>\n",
              "      <td>1350.0</td>\n",
              "      <td>1342.5</td>\n",
              "      <td>1343.75</td>\n",
              "      <td>8642</td>\n",
              "    </tr>\n",
              "  </tbody>\n",
              "</table>\n",
              "</div>\n",
              "    <div class=\"colab-df-buttons\">\n",
              "\n",
              "  <div class=\"colab-df-container\">\n",
              "    <button class=\"colab-df-convert\" onclick=\"convertToInteractive('df-7c5693e6-182c-4bac-9502-a5613004669d')\"\n",
              "            title=\"Convert this dataframe to an interactive table.\"\n",
              "            style=\"display:none;\">\n",
              "\n",
              "  <svg xmlns=\"http://www.w3.org/2000/svg\" height=\"24px\" viewBox=\"0 -960 960 960\">\n",
              "    <path d=\"M120-120v-720h720v720H120Zm60-500h600v-160H180v160Zm220 220h160v-160H400v160Zm0 220h160v-160H400v160ZM180-400h160v-160H180v160Zm440 0h160v-160H620v160ZM180-180h160v-160H180v160Zm440 0h160v-160H620v160Z\"/>\n",
              "  </svg>\n",
              "    </button>\n",
              "\n",
              "  <style>\n",
              "    .colab-df-container {\n",
              "      display:flex;\n",
              "      gap: 12px;\n",
              "    }\n",
              "\n",
              "    .colab-df-convert {\n",
              "      background-color: #E8F0FE;\n",
              "      border: none;\n",
              "      border-radius: 50%;\n",
              "      cursor: pointer;\n",
              "      display: none;\n",
              "      fill: #1967D2;\n",
              "      height: 32px;\n",
              "      padding: 0 0 0 0;\n",
              "      width: 32px;\n",
              "    }\n",
              "\n",
              "    .colab-df-convert:hover {\n",
              "      background-color: #E2EBFA;\n",
              "      box-shadow: 0px 1px 2px rgba(60, 64, 67, 0.3), 0px 1px 3px 1px rgba(60, 64, 67, 0.15);\n",
              "      fill: #174EA6;\n",
              "    }\n",
              "\n",
              "    .colab-df-buttons div {\n",
              "      margin-bottom: 4px;\n",
              "    }\n",
              "\n",
              "    [theme=dark] .colab-df-convert {\n",
              "      background-color: #3B4455;\n",
              "      fill: #D2E3FC;\n",
              "    }\n",
              "\n",
              "    [theme=dark] .colab-df-convert:hover {\n",
              "      background-color: #434B5C;\n",
              "      box-shadow: 0px 1px 3px 1px rgba(0, 0, 0, 0.15);\n",
              "      filter: drop-shadow(0px 1px 2px rgba(0, 0, 0, 0.3));\n",
              "      fill: #FFFFFF;\n",
              "    }\n",
              "  </style>\n",
              "\n",
              "    <script>\n",
              "      const buttonEl =\n",
              "        document.querySelector('#df-7c5693e6-182c-4bac-9502-a5613004669d button.colab-df-convert');\n",
              "      buttonEl.style.display =\n",
              "        google.colab.kernel.accessAllowed ? 'block' : 'none';\n",
              "\n",
              "      async function convertToInteractive(key) {\n",
              "        const element = document.querySelector('#df-7c5693e6-182c-4bac-9502-a5613004669d');\n",
              "        const dataTable =\n",
              "          await google.colab.kernel.invokeFunction('convertToInteractive',\n",
              "                                                    [key], {});\n",
              "        if (!dataTable) return;\n",
              "\n",
              "        const docLinkHtml = 'Like what you see? Visit the ' +\n",
              "          '<a target=\"_blank\" href=https://colab.research.google.com/notebooks/data_table.ipynb>data table notebook</a>'\n",
              "          + ' to learn more about interactive tables.';\n",
              "        element.innerHTML = '';\n",
              "        dataTable['output_type'] = 'display_data';\n",
              "        await google.colab.output.renderOutput(dataTable, element);\n",
              "        const docLink = document.createElement('div');\n",
              "        docLink.innerHTML = docLinkHtml;\n",
              "        element.appendChild(docLink);\n",
              "      }\n",
              "    </script>\n",
              "  </div>\n",
              "\n",
              "\n",
              "<div id=\"df-cb9d1683-26fe-4c62-9b9b-d4533a052f2c\">\n",
              "  <button class=\"colab-df-quickchart\" onclick=\"quickchart('df-cb9d1683-26fe-4c62-9b9b-d4533a052f2c')\"\n",
              "            title=\"Suggest charts\"\n",
              "            style=\"display:none;\">\n",
              "\n",
              "<svg xmlns=\"http://www.w3.org/2000/svg\" height=\"24px\"viewBox=\"0 0 24 24\"\n",
              "     width=\"24px\">\n",
              "    <g>\n",
              "        <path d=\"M19 3H5c-1.1 0-2 .9-2 2v14c0 1.1.9 2 2 2h14c1.1 0 2-.9 2-2V5c0-1.1-.9-2-2-2zM9 17H7v-7h2v7zm4 0h-2V7h2v10zm4 0h-2v-4h2v4z\"/>\n",
              "    </g>\n",
              "</svg>\n",
              "  </button>\n",
              "\n",
              "<style>\n",
              "  .colab-df-quickchart {\n",
              "      --bg-color: #E8F0FE;\n",
              "      --fill-color: #1967D2;\n",
              "      --hover-bg-color: #E2EBFA;\n",
              "      --hover-fill-color: #174EA6;\n",
              "      --disabled-fill-color: #AAA;\n",
              "      --disabled-bg-color: #DDD;\n",
              "  }\n",
              "\n",
              "  [theme=dark] .colab-df-quickchart {\n",
              "      --bg-color: #3B4455;\n",
              "      --fill-color: #D2E3FC;\n",
              "      --hover-bg-color: #434B5C;\n",
              "      --hover-fill-color: #FFFFFF;\n",
              "      --disabled-bg-color: #3B4455;\n",
              "      --disabled-fill-color: #666;\n",
              "  }\n",
              "\n",
              "  .colab-df-quickchart {\n",
              "    background-color: var(--bg-color);\n",
              "    border: none;\n",
              "    border-radius: 50%;\n",
              "    cursor: pointer;\n",
              "    display: none;\n",
              "    fill: var(--fill-color);\n",
              "    height: 32px;\n",
              "    padding: 0;\n",
              "    width: 32px;\n",
              "  }\n",
              "\n",
              "  .colab-df-quickchart:hover {\n",
              "    background-color: var(--hover-bg-color);\n",
              "    box-shadow: 0 1px 2px rgba(60, 64, 67, 0.3), 0 1px 3px 1px rgba(60, 64, 67, 0.15);\n",
              "    fill: var(--button-hover-fill-color);\n",
              "  }\n",
              "\n",
              "  .colab-df-quickchart-complete:disabled,\n",
              "  .colab-df-quickchart-complete:disabled:hover {\n",
              "    background-color: var(--disabled-bg-color);\n",
              "    fill: var(--disabled-fill-color);\n",
              "    box-shadow: none;\n",
              "  }\n",
              "\n",
              "  .colab-df-spinner {\n",
              "    border: 2px solid var(--fill-color);\n",
              "    border-color: transparent;\n",
              "    border-bottom-color: var(--fill-color);\n",
              "    animation:\n",
              "      spin 1s steps(1) infinite;\n",
              "  }\n",
              "\n",
              "  @keyframes spin {\n",
              "    0% {\n",
              "      border-color: transparent;\n",
              "      border-bottom-color: var(--fill-color);\n",
              "      border-left-color: var(--fill-color);\n",
              "    }\n",
              "    20% {\n",
              "      border-color: transparent;\n",
              "      border-left-color: var(--fill-color);\n",
              "      border-top-color: var(--fill-color);\n",
              "    }\n",
              "    30% {\n",
              "      border-color: transparent;\n",
              "      border-left-color: var(--fill-color);\n",
              "      border-top-color: var(--fill-color);\n",
              "      border-right-color: var(--fill-color);\n",
              "    }\n",
              "    40% {\n",
              "      border-color: transparent;\n",
              "      border-right-color: var(--fill-color);\n",
              "      border-top-color: var(--fill-color);\n",
              "    }\n",
              "    60% {\n",
              "      border-color: transparent;\n",
              "      border-right-color: var(--fill-color);\n",
              "    }\n",
              "    80% {\n",
              "      border-color: transparent;\n",
              "      border-right-color: var(--fill-color);\n",
              "      border-bottom-color: var(--fill-color);\n",
              "    }\n",
              "    90% {\n",
              "      border-color: transparent;\n",
              "      border-bottom-color: var(--fill-color);\n",
              "    }\n",
              "  }\n",
              "</style>\n",
              "\n",
              "  <script>\n",
              "    async function quickchart(key) {\n",
              "      const quickchartButtonEl =\n",
              "        document.querySelector('#' + key + ' button');\n",
              "      quickchartButtonEl.disabled = true;  // To prevent multiple clicks.\n",
              "      quickchartButtonEl.classList.add('colab-df-spinner');\n",
              "      try {\n",
              "        const charts = await google.colab.kernel.invokeFunction(\n",
              "            'suggestCharts', [key], {});\n",
              "      } catch (error) {\n",
              "        console.error('Error during call to suggestCharts:', error);\n",
              "      }\n",
              "      quickchartButtonEl.classList.remove('colab-df-spinner');\n",
              "      quickchartButtonEl.classList.add('colab-df-quickchart-complete');\n",
              "    }\n",
              "    (() => {\n",
              "      let quickchartButtonEl =\n",
              "        document.querySelector('#df-cb9d1683-26fe-4c62-9b9b-d4533a052f2c button');\n",
              "      quickchartButtonEl.style.display =\n",
              "        google.colab.kernel.accessAllowed ? 'block' : 'none';\n",
              "    })();\n",
              "  </script>\n",
              "</div>\n",
              "\n",
              "    </div>\n",
              "  </div>\n"
            ],
            "application/vnd.google.colaboratory.intrinsic+json": {
              "type": "dataframe",
              "repr_error": "0"
            }
          },
          "metadata": {},
          "execution_count": 5
        }
      ]
    },
    {
      "cell_type": "code",
      "source": [
        "df.shape"
      ],
      "metadata": {
        "execution": {
          "iopub.status.busy": "2023-09-13T14:13:47.53498Z",
          "iopub.execute_input": "2023-09-13T14:13:47.536202Z",
          "iopub.status.idle": "2023-09-13T14:13:47.548866Z",
          "shell.execute_reply.started": "2023-09-13T14:13:47.536146Z",
          "shell.execute_reply": "2023-09-13T14:13:47.547399Z"
        },
        "trusted": true,
        "colab": {
          "base_uri": "https://localhost:8080/"
        },
        "id": "iyQ1-lKVYqMo",
        "outputId": "c6588f07-a129-463c-e3d9-d496e16dec32"
      },
      "execution_count": 6,
      "outputs": [
        {
          "output_type": "execute_result",
          "data": {
            "text/plain": [
              "(34865, 8)"
            ]
          },
          "metadata": {},
          "execution_count": 6
        }
      ]
    },
    {
      "cell_type": "code",
      "source": [
        "df.dtypes"
      ],
      "metadata": {
        "execution": {
          "iopub.status.busy": "2023-09-13T14:13:47.550452Z",
          "iopub.execute_input": "2023-09-13T14:13:47.550869Z",
          "iopub.status.idle": "2023-09-13T14:13:47.567615Z",
          "shell.execute_reply.started": "2023-09-13T14:13:47.550835Z",
          "shell.execute_reply": "2023-09-13T14:13:47.565564Z"
        },
        "trusted": true,
        "colab": {
          "base_uri": "https://localhost:8080/"
        },
        "id": "_ZAEuYm_YqMp",
        "outputId": "847adf59-e5b2-4e55-cf44-87dded45db3b"
      },
      "execution_count": 7,
      "outputs": [
        {
          "output_type": "execute_result",
          "data": {
            "text/plain": [
              "ticker        object\n",
              "commodity     object\n",
              "date          object\n",
              "open         float64\n",
              "high         float64\n",
              "low          float64\n",
              "close        float64\n",
              "volume         int64\n",
              "dtype: object"
            ]
          },
          "metadata": {},
          "execution_count": 7
        }
      ]
    },
    {
      "cell_type": "code",
      "source": [
        "df['date'] = pd.to_datetime(df['date'], format='%Y-%m-%d')\n",
        "df.dtypes"
      ],
      "metadata": {
        "execution": {
          "iopub.status.busy": "2023-09-13T14:13:47.569962Z",
          "iopub.execute_input": "2023-09-13T14:13:47.570881Z",
          "iopub.status.idle": "2023-09-13T14:13:47.603344Z",
          "shell.execute_reply.started": "2023-09-13T14:13:47.570741Z",
          "shell.execute_reply": "2023-09-13T14:13:47.601707Z"
        },
        "trusted": true,
        "colab": {
          "base_uri": "https://localhost:8080/"
        },
        "id": "_d5C5ujnYqMp",
        "outputId": "a1c1f40b-65d8-480e-fc5b-69d4aeff1402"
      },
      "execution_count": 8,
      "outputs": [
        {
          "output_type": "execute_result",
          "data": {
            "text/plain": [
              "ticker               object\n",
              "commodity            object\n",
              "date         datetime64[ns]\n",
              "open                float64\n",
              "high                float64\n",
              "low                 float64\n",
              "close               float64\n",
              "volume                int64\n",
              "dtype: object"
            ]
          },
          "metadata": {},
          "execution_count": 8
        }
      ]
    },
    {
      "cell_type": "code",
      "source": [
        "df['Year'] = df['date'].dt.year\n",
        "df['Month'] = df['date'].dt.month\n",
        "df['Day'] = df['date'].dt.day"
      ],
      "metadata": {
        "execution": {
          "iopub.status.busy": "2023-09-13T14:13:47.60546Z",
          "iopub.execute_input": "2023-09-13T14:13:47.606195Z",
          "iopub.status.idle": "2023-09-13T14:13:47.632001Z",
          "shell.execute_reply.started": "2023-09-13T14:13:47.606122Z",
          "shell.execute_reply": "2023-09-13T14:13:47.630602Z"
        },
        "trusted": true,
        "id": "xvY2C3bVYqMp"
      },
      "execution_count": 9,
      "outputs": []
    },
    {
      "cell_type": "code",
      "source": [
        "df = df.drop('date', axis=1)\n",
        "df.head()"
      ],
      "metadata": {
        "execution": {
          "iopub.status.busy": "2023-09-13T14:13:47.633761Z",
          "iopub.execute_input": "2023-09-13T14:13:47.634207Z",
          "iopub.status.idle": "2023-09-13T14:13:47.659494Z",
          "shell.execute_reply.started": "2023-09-13T14:13:47.634163Z",
          "shell.execute_reply": "2023-09-13T14:13:47.658388Z"
        },
        "trusted": true,
        "colab": {
          "base_uri": "https://localhost:8080/",
          "height": 206
        },
        "id": "y3NRzPuKYqMp",
        "outputId": "0f138834-bf07-497d-9545-fe292f847a5e"
      },
      "execution_count": 10,
      "outputs": [
        {
          "output_type": "execute_result",
          "data": {
            "text/plain": [
              "  ticker commodity    open    high     low   close  volume  Year  Month  Day\n",
              "0   ZC=F      Corn  182.25  182.25  178.25  179.25   19385  2000      7   17\n",
              "1   ZC=F      Corn  179.00  183.25  179.00  180.75   25205  2000      7   18\n",
              "2   ZC=F      Corn  180.00  182.75  178.75  182.00   17126  2000      7   19\n",
              "3   ZC=F      Corn  181.50  187.00  181.00  186.00   18742  2000      7   20\n",
              "4   ZC=F      Corn  185.50  188.00  185.00  187.75   16814  2000      7   21"
            ],
            "text/html": [
              "\n",
              "  <div id=\"df-f8c7939d-88dd-437c-a8d5-283c105aaa08\" class=\"colab-df-container\">\n",
              "    <div>\n",
              "<style scoped>\n",
              "    .dataframe tbody tr th:only-of-type {\n",
              "        vertical-align: middle;\n",
              "    }\n",
              "\n",
              "    .dataframe tbody tr th {\n",
              "        vertical-align: top;\n",
              "    }\n",
              "\n",
              "    .dataframe thead th {\n",
              "        text-align: right;\n",
              "    }\n",
              "</style>\n",
              "<table border=\"1\" class=\"dataframe\">\n",
              "  <thead>\n",
              "    <tr style=\"text-align: right;\">\n",
              "      <th></th>\n",
              "      <th>ticker</th>\n",
              "      <th>commodity</th>\n",
              "      <th>open</th>\n",
              "      <th>high</th>\n",
              "      <th>low</th>\n",
              "      <th>close</th>\n",
              "      <th>volume</th>\n",
              "      <th>Year</th>\n",
              "      <th>Month</th>\n",
              "      <th>Day</th>\n",
              "    </tr>\n",
              "  </thead>\n",
              "  <tbody>\n",
              "    <tr>\n",
              "      <th>0</th>\n",
              "      <td>ZC=F</td>\n",
              "      <td>Corn</td>\n",
              "      <td>182.25</td>\n",
              "      <td>182.25</td>\n",
              "      <td>178.25</td>\n",
              "      <td>179.25</td>\n",
              "      <td>19385</td>\n",
              "      <td>2000</td>\n",
              "      <td>7</td>\n",
              "      <td>17</td>\n",
              "    </tr>\n",
              "    <tr>\n",
              "      <th>1</th>\n",
              "      <td>ZC=F</td>\n",
              "      <td>Corn</td>\n",
              "      <td>179.00</td>\n",
              "      <td>183.25</td>\n",
              "      <td>179.00</td>\n",
              "      <td>180.75</td>\n",
              "      <td>25205</td>\n",
              "      <td>2000</td>\n",
              "      <td>7</td>\n",
              "      <td>18</td>\n",
              "    </tr>\n",
              "    <tr>\n",
              "      <th>2</th>\n",
              "      <td>ZC=F</td>\n",
              "      <td>Corn</td>\n",
              "      <td>180.00</td>\n",
              "      <td>182.75</td>\n",
              "      <td>178.75</td>\n",
              "      <td>182.00</td>\n",
              "      <td>17126</td>\n",
              "      <td>2000</td>\n",
              "      <td>7</td>\n",
              "      <td>19</td>\n",
              "    </tr>\n",
              "    <tr>\n",
              "      <th>3</th>\n",
              "      <td>ZC=F</td>\n",
              "      <td>Corn</td>\n",
              "      <td>181.50</td>\n",
              "      <td>187.00</td>\n",
              "      <td>181.00</td>\n",
              "      <td>186.00</td>\n",
              "      <td>18742</td>\n",
              "      <td>2000</td>\n",
              "      <td>7</td>\n",
              "      <td>20</td>\n",
              "    </tr>\n",
              "    <tr>\n",
              "      <th>4</th>\n",
              "      <td>ZC=F</td>\n",
              "      <td>Corn</td>\n",
              "      <td>185.50</td>\n",
              "      <td>188.00</td>\n",
              "      <td>185.00</td>\n",
              "      <td>187.75</td>\n",
              "      <td>16814</td>\n",
              "      <td>2000</td>\n",
              "      <td>7</td>\n",
              "      <td>21</td>\n",
              "    </tr>\n",
              "  </tbody>\n",
              "</table>\n",
              "</div>\n",
              "    <div class=\"colab-df-buttons\">\n",
              "\n",
              "  <div class=\"colab-df-container\">\n",
              "    <button class=\"colab-df-convert\" onclick=\"convertToInteractive('df-f8c7939d-88dd-437c-a8d5-283c105aaa08')\"\n",
              "            title=\"Convert this dataframe to an interactive table.\"\n",
              "            style=\"display:none;\">\n",
              "\n",
              "  <svg xmlns=\"http://www.w3.org/2000/svg\" height=\"24px\" viewBox=\"0 -960 960 960\">\n",
              "    <path d=\"M120-120v-720h720v720H120Zm60-500h600v-160H180v160Zm220 220h160v-160H400v160Zm0 220h160v-160H400v160ZM180-400h160v-160H180v160Zm440 0h160v-160H620v160ZM180-180h160v-160H180v160Zm440 0h160v-160H620v160Z\"/>\n",
              "  </svg>\n",
              "    </button>\n",
              "\n",
              "  <style>\n",
              "    .colab-df-container {\n",
              "      display:flex;\n",
              "      gap: 12px;\n",
              "    }\n",
              "\n",
              "    .colab-df-convert {\n",
              "      background-color: #E8F0FE;\n",
              "      border: none;\n",
              "      border-radius: 50%;\n",
              "      cursor: pointer;\n",
              "      display: none;\n",
              "      fill: #1967D2;\n",
              "      height: 32px;\n",
              "      padding: 0 0 0 0;\n",
              "      width: 32px;\n",
              "    }\n",
              "\n",
              "    .colab-df-convert:hover {\n",
              "      background-color: #E2EBFA;\n",
              "      box-shadow: 0px 1px 2px rgba(60, 64, 67, 0.3), 0px 1px 3px 1px rgba(60, 64, 67, 0.15);\n",
              "      fill: #174EA6;\n",
              "    }\n",
              "\n",
              "    .colab-df-buttons div {\n",
              "      margin-bottom: 4px;\n",
              "    }\n",
              "\n",
              "    [theme=dark] .colab-df-convert {\n",
              "      background-color: #3B4455;\n",
              "      fill: #D2E3FC;\n",
              "    }\n",
              "\n",
              "    [theme=dark] .colab-df-convert:hover {\n",
              "      background-color: #434B5C;\n",
              "      box-shadow: 0px 1px 3px 1px rgba(0, 0, 0, 0.15);\n",
              "      filter: drop-shadow(0px 1px 2px rgba(0, 0, 0, 0.3));\n",
              "      fill: #FFFFFF;\n",
              "    }\n",
              "  </style>\n",
              "\n",
              "    <script>\n",
              "      const buttonEl =\n",
              "        document.querySelector('#df-f8c7939d-88dd-437c-a8d5-283c105aaa08 button.colab-df-convert');\n",
              "      buttonEl.style.display =\n",
              "        google.colab.kernel.accessAllowed ? 'block' : 'none';\n",
              "\n",
              "      async function convertToInteractive(key) {\n",
              "        const element = document.querySelector('#df-f8c7939d-88dd-437c-a8d5-283c105aaa08');\n",
              "        const dataTable =\n",
              "          await google.colab.kernel.invokeFunction('convertToInteractive',\n",
              "                                                    [key], {});\n",
              "        if (!dataTable) return;\n",
              "\n",
              "        const docLinkHtml = 'Like what you see? Visit the ' +\n",
              "          '<a target=\"_blank\" href=https://colab.research.google.com/notebooks/data_table.ipynb>data table notebook</a>'\n",
              "          + ' to learn more about interactive tables.';\n",
              "        element.innerHTML = '';\n",
              "        dataTable['output_type'] = 'display_data';\n",
              "        await google.colab.output.renderOutput(dataTable, element);\n",
              "        const docLink = document.createElement('div');\n",
              "        docLink.innerHTML = docLinkHtml;\n",
              "        element.appendChild(docLink);\n",
              "      }\n",
              "    </script>\n",
              "  </div>\n",
              "\n",
              "\n",
              "<div id=\"df-9534a8e3-b14e-4307-be73-f88dced58855\">\n",
              "  <button class=\"colab-df-quickchart\" onclick=\"quickchart('df-9534a8e3-b14e-4307-be73-f88dced58855')\"\n",
              "            title=\"Suggest charts\"\n",
              "            style=\"display:none;\">\n",
              "\n",
              "<svg xmlns=\"http://www.w3.org/2000/svg\" height=\"24px\"viewBox=\"0 0 24 24\"\n",
              "     width=\"24px\">\n",
              "    <g>\n",
              "        <path d=\"M19 3H5c-1.1 0-2 .9-2 2v14c0 1.1.9 2 2 2h14c1.1 0 2-.9 2-2V5c0-1.1-.9-2-2-2zM9 17H7v-7h2v7zm4 0h-2V7h2v10zm4 0h-2v-4h2v4z\"/>\n",
              "    </g>\n",
              "</svg>\n",
              "  </button>\n",
              "\n",
              "<style>\n",
              "  .colab-df-quickchart {\n",
              "      --bg-color: #E8F0FE;\n",
              "      --fill-color: #1967D2;\n",
              "      --hover-bg-color: #E2EBFA;\n",
              "      --hover-fill-color: #174EA6;\n",
              "      --disabled-fill-color: #AAA;\n",
              "      --disabled-bg-color: #DDD;\n",
              "  }\n",
              "\n",
              "  [theme=dark] .colab-df-quickchart {\n",
              "      --bg-color: #3B4455;\n",
              "      --fill-color: #D2E3FC;\n",
              "      --hover-bg-color: #434B5C;\n",
              "      --hover-fill-color: #FFFFFF;\n",
              "      --disabled-bg-color: #3B4455;\n",
              "      --disabled-fill-color: #666;\n",
              "  }\n",
              "\n",
              "  .colab-df-quickchart {\n",
              "    background-color: var(--bg-color);\n",
              "    border: none;\n",
              "    border-radius: 50%;\n",
              "    cursor: pointer;\n",
              "    display: none;\n",
              "    fill: var(--fill-color);\n",
              "    height: 32px;\n",
              "    padding: 0;\n",
              "    width: 32px;\n",
              "  }\n",
              "\n",
              "  .colab-df-quickchart:hover {\n",
              "    background-color: var(--hover-bg-color);\n",
              "    box-shadow: 0 1px 2px rgba(60, 64, 67, 0.3), 0 1px 3px 1px rgba(60, 64, 67, 0.15);\n",
              "    fill: var(--button-hover-fill-color);\n",
              "  }\n",
              "\n",
              "  .colab-df-quickchart-complete:disabled,\n",
              "  .colab-df-quickchart-complete:disabled:hover {\n",
              "    background-color: var(--disabled-bg-color);\n",
              "    fill: var(--disabled-fill-color);\n",
              "    box-shadow: none;\n",
              "  }\n",
              "\n",
              "  .colab-df-spinner {\n",
              "    border: 2px solid var(--fill-color);\n",
              "    border-color: transparent;\n",
              "    border-bottom-color: var(--fill-color);\n",
              "    animation:\n",
              "      spin 1s steps(1) infinite;\n",
              "  }\n",
              "\n",
              "  @keyframes spin {\n",
              "    0% {\n",
              "      border-color: transparent;\n",
              "      border-bottom-color: var(--fill-color);\n",
              "      border-left-color: var(--fill-color);\n",
              "    }\n",
              "    20% {\n",
              "      border-color: transparent;\n",
              "      border-left-color: var(--fill-color);\n",
              "      border-top-color: var(--fill-color);\n",
              "    }\n",
              "    30% {\n",
              "      border-color: transparent;\n",
              "      border-left-color: var(--fill-color);\n",
              "      border-top-color: var(--fill-color);\n",
              "      border-right-color: var(--fill-color);\n",
              "    }\n",
              "    40% {\n",
              "      border-color: transparent;\n",
              "      border-right-color: var(--fill-color);\n",
              "      border-top-color: var(--fill-color);\n",
              "    }\n",
              "    60% {\n",
              "      border-color: transparent;\n",
              "      border-right-color: var(--fill-color);\n",
              "    }\n",
              "    80% {\n",
              "      border-color: transparent;\n",
              "      border-right-color: var(--fill-color);\n",
              "      border-bottom-color: var(--fill-color);\n",
              "    }\n",
              "    90% {\n",
              "      border-color: transparent;\n",
              "      border-bottom-color: var(--fill-color);\n",
              "    }\n",
              "  }\n",
              "</style>\n",
              "\n",
              "  <script>\n",
              "    async function quickchart(key) {\n",
              "      const quickchartButtonEl =\n",
              "        document.querySelector('#' + key + ' button');\n",
              "      quickchartButtonEl.disabled = true;  // To prevent multiple clicks.\n",
              "      quickchartButtonEl.classList.add('colab-df-spinner');\n",
              "      try {\n",
              "        const charts = await google.colab.kernel.invokeFunction(\n",
              "            'suggestCharts', [key], {});\n",
              "      } catch (error) {\n",
              "        console.error('Error during call to suggestCharts:', error);\n",
              "      }\n",
              "      quickchartButtonEl.classList.remove('colab-df-spinner');\n",
              "      quickchartButtonEl.classList.add('colab-df-quickchart-complete');\n",
              "    }\n",
              "    (() => {\n",
              "      let quickchartButtonEl =\n",
              "        document.querySelector('#df-9534a8e3-b14e-4307-be73-f88dced58855 button');\n",
              "      quickchartButtonEl.style.display =\n",
              "        google.colab.kernel.accessAllowed ? 'block' : 'none';\n",
              "    })();\n",
              "  </script>\n",
              "</div>\n",
              "\n",
              "    </div>\n",
              "  </div>\n"
            ],
            "application/vnd.google.colaboratory.intrinsic+json": {
              "type": "dataframe",
              "variable_name": "df",
              "summary": "{\n  \"name\": \"df\",\n  \"rows\": 34865,\n  \"fields\": [\n    {\n      \"column\": \"ticker\",\n      \"properties\": {\n        \"dtype\": \"category\",\n        \"num_unique_values\": 6,\n        \"samples\": [\n          \"ZC=F\",\n          \"ZO=F\",\n          \"ZS=F\"\n        ],\n        \"semantic_type\": \"\",\n        \"description\": \"\"\n      }\n    },\n    {\n      \"column\": \"commodity\",\n      \"properties\": {\n        \"dtype\": \"category\",\n        \"num_unique_values\": 6,\n        \"samples\": [\n          \"Corn\",\n          \"Oat\",\n          \"Soybean\"\n        ],\n        \"semantic_type\": \"\",\n        \"description\": \"\"\n      }\n    },\n    {\n      \"column\": \"open\",\n      \"properties\": {\n        \"dtype\": \"number\",\n        \"std\": 458.8317162901308,\n        \"min\": 14.399999618530272,\n        \"max\": 2435.0,\n        \"num_unique_values\": 9023,\n        \"samples\": [\n          987.5,\n          1130.75,\n          1831.0\n        ],\n        \"semantic_type\": \"\",\n        \"description\": \"\"\n      }\n    },\n    {\n      \"column\": \"high\",\n      \"properties\": {\n        \"dtype\": \"number\",\n        \"std\": 463.4122564476584,\n        \"min\": 14.40999984741211,\n        \"max\": 2468.5,\n        \"num_unique_values\": 9074,\n        \"samples\": [\n          377.75,\n          22.809999465942383,\n          929.0\n        ],\n        \"semantic_type\": \"\",\n        \"description\": \"\"\n      }\n    },\n    {\n      \"column\": \"low\",\n      \"properties\": {\n        \"dtype\": \"number\",\n        \"std\": 454.4881848649832,\n        \"min\": 14.380000114440918,\n        \"max\": 2400.0,\n        \"num_unique_values\": 8892,\n        \"samples\": [\n          33.38999938964844,\n          1052.5,\n          22.309999465942383\n        ],\n        \"semantic_type\": \"\",\n        \"description\": \"\"\n      }\n    },\n    {\n      \"column\": \"close\",\n      \"properties\": {\n        \"dtype\": \"number\",\n        \"std\": 458.8592027469589,\n        \"min\": 14.380000114440918,\n        \"max\": 2446.0,\n        \"num_unique_values\": 9135,\n        \"samples\": [\n          591.75,\n          203.0,\n          1479.5\n        ],\n        \"semantic_type\": \"\",\n        \"description\": \"\"\n      }\n    },\n    {\n      \"column\": \"volume\",\n      \"properties\": {\n        \"dtype\": \"number\",\n        \"std\": 52347,\n        \"min\": 0,\n        \"max\": 523849,\n        \"num_unique_values\": 15641,\n        \"samples\": [\n          654,\n          4224,\n          10190\n        ],\n        \"semantic_type\": \"\",\n        \"description\": \"\"\n      }\n    },\n    {\n      \"column\": \"Year\",\n      \"properties\": {\n        \"dtype\": \"int32\",\n        \"num_unique_values\": 24,\n        \"samples\": [\n          2008,\n          2016,\n          2000\n        ],\n        \"semantic_type\": \"\",\n        \"description\": \"\"\n      }\n    },\n    {\n      \"column\": \"Month\",\n      \"properties\": {\n        \"dtype\": \"int32\",\n        \"num_unique_values\": 12,\n        \"samples\": [\n          5,\n          4,\n          7\n        ],\n        \"semantic_type\": \"\",\n        \"description\": \"\"\n      }\n    },\n    {\n      \"column\": \"Day\",\n      \"properties\": {\n        \"dtype\": \"int32\",\n        \"num_unique_values\": 31,\n        \"samples\": [\n          5,\n          7,\n          22\n        ],\n        \"semantic_type\": \"\",\n        \"description\": \"\"\n      }\n    }\n  ]\n}"
            }
          },
          "metadata": {},
          "execution_count": 10
        }
      ]
    },
    {
      "cell_type": "code",
      "source": [
        "df.isnull().sum()"
      ],
      "metadata": {
        "execution": {
          "iopub.status.busy": "2023-09-13T14:13:47.661137Z",
          "iopub.execute_input": "2023-09-13T14:13:47.661758Z",
          "iopub.status.idle": "2023-09-13T14:13:47.684992Z",
          "shell.execute_reply.started": "2023-09-13T14:13:47.661701Z",
          "shell.execute_reply": "2023-09-13T14:13:47.683624Z"
        },
        "trusted": true,
        "colab": {
          "base_uri": "https://localhost:8080/"
        },
        "id": "7nwWJYxuYqMp",
        "outputId": "42134b42-aad3-4deb-dd58-cc9440614cc2"
      },
      "execution_count": 11,
      "outputs": [
        {
          "output_type": "execute_result",
          "data": {
            "text/plain": [
              "ticker       0\n",
              "commodity    0\n",
              "open         0\n",
              "high         0\n",
              "low          0\n",
              "close        0\n",
              "volume       0\n",
              "Year         0\n",
              "Month        0\n",
              "Day          0\n",
              "dtype: int64"
            ]
          },
          "metadata": {},
          "execution_count": 11
        }
      ]
    },
    {
      "cell_type": "markdown",
      "source": [
        "no missing data :D"
      ],
      "metadata": {
        "execution": {
          "iopub.status.busy": "2023-09-12T22:01:28.334453Z",
          "iopub.execute_input": "2023-09-12T22:01:28.335017Z",
          "iopub.status.idle": "2023-09-12T22:01:28.368475Z",
          "shell.execute_reply.started": "2023-09-12T22:01:28.334969Z",
          "shell.execute_reply": "2023-09-12T22:01:28.367364Z"
        },
        "id": "51bcBWctYqMp"
      }
    },
    {
      "cell_type": "code",
      "source": [
        "columns_to_analyze = [\"ticker\",\"commodity\"]\n",
        "\n",
        "for column in columns_to_analyze:\n",
        "    unique_values_count = df[column].nunique()\n",
        "    print(f\"Number of unique values in '{column}' column: {unique_values_count}\")\n",
        "    print(\"____________________________________________________________________\")"
      ],
      "metadata": {
        "execution": {
          "iopub.status.busy": "2023-09-13T14:13:47.691981Z",
          "iopub.execute_input": "2023-09-13T14:13:47.692545Z",
          "iopub.status.idle": "2023-09-13T14:13:47.709299Z",
          "shell.execute_reply.started": "2023-09-13T14:13:47.692475Z",
          "shell.execute_reply": "2023-09-13T14:13:47.707844Z"
        },
        "trusted": true,
        "colab": {
          "base_uri": "https://localhost:8080/"
        },
        "id": "pfJsLxmeYqMp",
        "outputId": "25f023c9-b8c0-4884-97c3-8f3a79dc82ba"
      },
      "execution_count": 12,
      "outputs": [
        {
          "output_type": "stream",
          "name": "stdout",
          "text": [
            "Number of unique values in 'ticker' column: 6\n",
            "____________________________________________________________________\n",
            "Number of unique values in 'commodity' column: 6\n",
            "____________________________________________________________________\n"
          ]
        }
      ]
    },
    {
      "cell_type": "code",
      "source": [
        "duplicates = df.duplicated().sum()\n",
        "duplicates"
      ],
      "metadata": {
        "execution": {
          "iopub.status.busy": "2023-09-13T14:13:47.711118Z",
          "iopub.execute_input": "2023-09-13T14:13:47.711649Z",
          "iopub.status.idle": "2023-09-13T14:13:47.753059Z",
          "shell.execute_reply.started": "2023-09-13T14:13:47.711611Z",
          "shell.execute_reply": "2023-09-13T14:13:47.751581Z"
        },
        "trusted": true,
        "colab": {
          "base_uri": "https://localhost:8080/"
        },
        "id": "HnzRMl_3YqMq",
        "outputId": "668d00bd-d799-4d53-d0a1-b42e97c29ae7"
      },
      "execution_count": 13,
      "outputs": [
        {
          "output_type": "execute_result",
          "data": {
            "text/plain": [
              "0"
            ]
          },
          "metadata": {},
          "execution_count": 13
        }
      ]
    },
    {
      "cell_type": "code",
      "source": [
        "df.columns"
      ],
      "metadata": {
        "execution": {
          "iopub.status.busy": "2023-09-13T14:13:47.755149Z",
          "iopub.execute_input": "2023-09-13T14:13:47.755627Z",
          "iopub.status.idle": "2023-09-13T14:13:47.765798Z",
          "shell.execute_reply.started": "2023-09-13T14:13:47.755583Z",
          "shell.execute_reply": "2023-09-13T14:13:47.763603Z"
        },
        "trusted": true,
        "colab": {
          "base_uri": "https://localhost:8080/"
        },
        "id": "9iyHT0QoYqMq",
        "outputId": "4b3f49e8-c960-44aa-b8b7-46735cfe5caf"
      },
      "execution_count": 14,
      "outputs": [
        {
          "output_type": "execute_result",
          "data": {
            "text/plain": [
              "Index(['ticker', 'commodity', 'open', 'high', 'low', 'close', 'volume', 'Year',\n",
              "       'Month', 'Day'],\n",
              "      dtype='object')"
            ]
          },
          "metadata": {},
          "execution_count": 14
        }
      ]
    },
    {
      "cell_type": "markdown",
      "source": [
        "<center><h1>Preprocessing"
      ],
      "metadata": {
        "id": "Mxk_geSgYqMq"
      }
    },
    {
      "cell_type": "code",
      "source": [
        "def get_X_y(df):\n",
        "    FEATURES = [\n",
        "        'ticker',\n",
        "        'commodity',\n",
        "        'open',\n",
        "        'high',\n",
        "        'low',\n",
        "        'close',\n",
        "        'Year',\n",
        "       'Month',\n",
        "        'Day'\n",
        "    ]\n",
        "\n",
        "    TARGET = 'volume'\n",
        "\n",
        "    X = df[FEATURES]\n",
        "    y = df[TARGET]\n",
        "\n",
        "    return X, y"
      ],
      "metadata": {
        "execution": {
          "iopub.status.busy": "2023-09-13T14:13:47.768097Z",
          "iopub.execute_input": "2023-09-13T14:13:47.768792Z",
          "iopub.status.idle": "2023-09-13T14:13:47.780283Z",
          "shell.execute_reply.started": "2023-09-13T14:13:47.768738Z",
          "shell.execute_reply": "2023-09-13T14:13:47.778556Z"
        },
        "jupyter": {
          "source_hidden": true
        },
        "trusted": true,
        "id": "vDvDYRuOYqMq"
      },
      "execution_count": 15,
      "outputs": []
    },
    {
      "cell_type": "code",
      "source": [
        "X, y = get_X_y(df)\n"
      ],
      "metadata": {
        "execution": {
          "iopub.status.busy": "2023-09-13T14:13:47.782748Z",
          "iopub.execute_input": "2023-09-13T14:13:47.783226Z",
          "iopub.status.idle": "2023-09-13T14:13:47.801911Z",
          "shell.execute_reply.started": "2023-09-13T14:13:47.783189Z",
          "shell.execute_reply": "2023-09-13T14:13:47.800251Z"
        },
        "trusted": true,
        "id": "p3kmTl02YqMq"
      },
      "execution_count": 16,
      "outputs": []
    },
    {
      "cell_type": "code",
      "source": [
        "categorical_columns = ['ticker', 'commodity']\n",
        "\n",
        "X = pd.get_dummies(X, columns=categorical_columns, dtype=int)"
      ],
      "metadata": {
        "execution": {
          "iopub.status.busy": "2023-09-13T14:13:47.803285Z",
          "iopub.execute_input": "2023-09-13T14:13:47.804442Z",
          "iopub.status.idle": "2023-09-13T14:13:47.842736Z",
          "shell.execute_reply.started": "2023-09-13T14:13:47.804404Z",
          "shell.execute_reply": "2023-09-13T14:13:47.841133Z"
        },
        "trusted": true,
        "id": "n5CLot3UYqMq"
      },
      "execution_count": 17,
      "outputs": []
    },
    {
      "cell_type": "code",
      "source": [
        "X_train, X_test, y_train, y_test = train_test_split(X,y,\n",
        "                                   random_state=42,\n",
        "                                   test_size=0.25,\n",
        "                                   shuffle=True)"
      ],
      "metadata": {
        "execution": {
          "iopub.status.busy": "2023-09-13T14:13:47.844744Z",
          "iopub.execute_input": "2023-09-13T14:13:47.845113Z",
          "iopub.status.idle": "2023-09-13T14:13:47.862857Z",
          "shell.execute_reply.started": "2023-09-13T14:13:47.845082Z",
          "shell.execute_reply": "2023-09-13T14:13:47.861235Z"
        },
        "trusted": true,
        "id": "5g2oDVLdYqMq"
      },
      "execution_count": 18,
      "outputs": []
    },
    {
      "cell_type": "code",
      "source": [
        "print(f\"X_train shape : {X_train.shape}\\nX_train shape : {y_train.shape}\\nX_train shape : {X_test.shape}\\nX_train shape : {y_test.shape}\")"
      ],
      "metadata": {
        "execution": {
          "iopub.status.busy": "2023-09-13T14:13:47.864484Z",
          "iopub.execute_input": "2023-09-13T14:13:47.864875Z",
          "iopub.status.idle": "2023-09-13T14:13:47.873416Z",
          "shell.execute_reply.started": "2023-09-13T14:13:47.864843Z",
          "shell.execute_reply": "2023-09-13T14:13:47.870821Z"
        },
        "trusted": true,
        "colab": {
          "base_uri": "https://localhost:8080/"
        },
        "id": "tKJivJ60YqMq",
        "outputId": "b15e0ccb-1c10-461b-941c-b3a2c9f54417"
      },
      "execution_count": 19,
      "outputs": [
        {
          "output_type": "stream",
          "name": "stdout",
          "text": [
            "X_train shape : (26148, 19)\n",
            "X_train shape : (26148,)\n",
            "X_train shape : (8717, 19)\n",
            "X_train shape : (8717,)\n"
          ]
        }
      ]
    },
    {
      "cell_type": "markdown",
      "source": [
        "<center><h1>Models"
      ],
      "metadata": {
        "id": "zH_yBn6oYqMq"
      }
    },
    {
      "cell_type": "code",
      "source": [
        "model = xgb.XGBRegressor(max_depth=10, learning_rate=0.24, n_estimators=50, objective='reg:linear', booster='gbtree')\n",
        "XGB=model.fit(X_train,y_train)\n",
        "prediction=XGB.predict(X_test)"
      ],
      "metadata": {
        "execution": {
          "iopub.status.busy": "2023-09-13T14:13:47.875412Z",
          "iopub.execute_input": "2023-09-13T14:13:47.875816Z",
          "iopub.status.idle": "2023-09-13T14:13:50.465339Z",
          "shell.execute_reply.started": "2023-09-13T14:13:47.875782Z",
          "shell.execute_reply": "2023-09-13T14:13:50.464215Z"
        },
        "trusted": true,
        "colab": {
          "base_uri": "https://localhost:8080/"
        },
        "id": "1hRADRMgYqMq",
        "outputId": "d5006a82-c0c7-4b0f-a5f7-945ed47e4636"
      },
      "execution_count": 20,
      "outputs": [
        {
          "output_type": "stream",
          "name": "stderr",
          "text": [
            "/usr/local/lib/python3.10/dist-packages/xgboost/core.py:160: UserWarning: [23:41:37] WARNING: /workspace/src/objective/regression_obj.cu:209: reg:linear is now deprecated in favor of reg:squarederror.\n",
            "  warnings.warn(smsg, UserWarning)\n"
          ]
        }
      ]
    },
    {
      "cell_type": "code",
      "source": [
        "r2 = r2_score(y_test, prediction)\n",
        "\n",
        "mae = mean_absolute_error(y_test, prediction)\n",
        "\n",
        "print(\"R2 Score:\", r2)\n",
        "print(\"Mean Squared Error (MSE):\", mae)"
      ],
      "metadata": {
        "execution": {
          "iopub.status.busy": "2023-09-13T14:13:50.467655Z",
          "iopub.execute_input": "2023-09-13T14:13:50.46902Z",
          "iopub.status.idle": "2023-09-13T14:13:50.478719Z",
          "shell.execute_reply.started": "2023-09-13T14:13:50.468959Z",
          "shell.execute_reply": "2023-09-13T14:13:50.477558Z"
        },
        "trusted": true,
        "colab": {
          "base_uri": "https://localhost:8080/"
        },
        "id": "3bImnTc9YqMq",
        "outputId": "1519fe1b-5ede-4844-ffd6-84fa86d795e6"
      },
      "execution_count": 21,
      "outputs": [
        {
          "output_type": "stream",
          "name": "stdout",
          "text": [
            "R2 Score: 0.904820677876828\n",
            "Mean Squared Error (MSE): 6778.563880129563\n"
          ]
        }
      ]
    },
    {
      "cell_type": "code",
      "source": [
        "DFR = RandomForestRegressor(n_estimators=60,\n",
        "                           max_depth=60,\n",
        "                           max_leaf_nodes=120,\n",
        "                           random_state=17)\n",
        "DFR=DFR.fit(X_train,y_train)\n",
        "prediction33=DFR.predict(X_test)"
      ],
      "metadata": {
        "execution": {
          "iopub.status.busy": "2023-09-13T14:13:50.480588Z",
          "iopub.execute_input": "2023-09-13T14:13:50.481708Z",
          "iopub.status.idle": "2023-09-13T14:13:55.409578Z",
          "shell.execute_reply.started": "2023-09-13T14:13:50.481659Z",
          "shell.execute_reply": "2023-09-13T14:13:55.407696Z"
        },
        "trusted": true,
        "id": "pQiOP0nBYqMq"
      },
      "execution_count": 22,
      "outputs": []
    },
    {
      "cell_type": "code",
      "source": [
        "r2 = r2_score(y_test, prediction33)\n",
        "\n",
        "mae = mean_absolute_error(y_test, prediction33)\n",
        "\n",
        "print(\"R2 Score:\", r2)\n",
        "print(\"Mean Squared Error (MSE):\", mae)"
      ],
      "metadata": {
        "execution": {
          "iopub.status.busy": "2023-09-13T14:13:55.411537Z",
          "iopub.execute_input": "2023-09-13T14:13:55.412007Z",
          "iopub.status.idle": "2023-09-13T14:13:55.427613Z",
          "shell.execute_reply.started": "2023-09-13T14:13:55.411967Z",
          "shell.execute_reply": "2023-09-13T14:13:55.425251Z"
        },
        "trusted": true,
        "colab": {
          "base_uri": "https://localhost:8080/"
        },
        "id": "z7FMqQi0YqMq",
        "outputId": "4283c224-3858-49bb-ec54-c9906107a5c7"
      },
      "execution_count": 23,
      "outputs": [
        {
          "output_type": "stream",
          "name": "stdout",
          "text": [
            "R2 Score: 0.870630667199224\n",
            "Mean Squared Error (MSE): 8658.100027291395\n"
          ]
        }
      ]
    },
    {
      "cell_type": "code",
      "source": [
        "param_grid = {\n",
        "    'max_depth': [None, 10, 20, 30],\n",
        "    'min_samples_split': [2, 5, 10],\n",
        "    'min_samples_leaf': [1, 2, 4]\n",
        "}"
      ],
      "metadata": {
        "execution": {
          "iopub.status.busy": "2023-09-13T14:13:55.43065Z",
          "iopub.execute_input": "2023-09-13T14:13:55.432981Z",
          "iopub.status.idle": "2023-09-13T14:13:55.44604Z",
          "shell.execute_reply.started": "2023-09-13T14:13:55.432891Z",
          "shell.execute_reply": "2023-09-13T14:13:55.443714Z"
        },
        "trusted": true,
        "id": "CYuNAq7UYqMq"
      },
      "execution_count": 24,
      "outputs": []
    },
    {
      "cell_type": "code",
      "source": [
        "GBR2 = GradientBoostingRegressor(learning_rate=0.1,\n",
        "                      n_estimators=100,\n",
        "                      max_depth=60,\n",
        "                      max_leaf_nodes=120,\n",
        "                      random_state=17)\n",
        "GBR2=GBR2.fit(X_train,y_train)\n",
        "predictionGBR=GBR2.predict(X_test)\n",
        "r2 = r2_score(y_test, predictionGBR)\n",
        "\n",
        "mae = mean_absolute_error(y_test, predictionGBR)\n",
        "\n",
        "print(\"R2 Score:\", r2)\n",
        "print(\"Mean Squared Error (MSE):\", mae)"
      ],
      "metadata": {
        "execution": {
          "iopub.status.busy": "2023-09-13T14:13:55.449092Z",
          "iopub.execute_input": "2023-09-13T14:13:55.449668Z",
          "iopub.status.idle": "2023-09-13T14:14:08.30411Z",
          "shell.execute_reply.started": "2023-09-13T14:13:55.449618Z",
          "shell.execute_reply": "2023-09-13T14:14:08.302951Z"
        },
        "trusted": true,
        "colab": {
          "base_uri": "https://localhost:8080/"
        },
        "id": "FsJvkXfbYqMq",
        "outputId": "9091e9d1-67c7-4f37-c134-6ee2913ad5d7"
      },
      "execution_count": 25,
      "outputs": [
        {
          "output_type": "stream",
          "name": "stdout",
          "text": [
            "R2 Score: 0.9067547705637365\n",
            "Mean Squared Error (MSE): 6860.042710899027\n"
          ]
        }
      ]
    }
  ]
}